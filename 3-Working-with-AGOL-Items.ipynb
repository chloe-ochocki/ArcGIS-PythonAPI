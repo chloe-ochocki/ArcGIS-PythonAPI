{
 "cells": [
  {
   "cell_type": "markdown",
   "metadata": {},
   "source": [
    "# Working with AGOL items with the ArcGIS Python API\n",
    "Now that we've covered how to connect to AGOL and find specific datasets, we'll now examine how we access these data as various programming objects and what we can do with those object. \n",
    "\n",
    "We'll start where the last notebooks left of: working with the [Census Tract data](db3f9c8728dd44e4ad455e0c27a85eea) (item ID = `db3f9c8728dd44e4ad455e0c27a85eea`. \n",
    "\n",
    "#### Resources:\n",
    "* https://developers.arcgis.com/python/guide/working-with-feature-layers-and-features/"
   ]
  },
  {
   "cell_type": "markdown",
   "metadata": {},
   "source": [
    "### Step 1. Connecting to AGOL and fetching the data item"
   ]
  },
  {
   "cell_type": "code",
   "execution_count": 1,
   "metadata": {},
   "outputs": [],
   "source": [
    "#Import the GIS object and connect (this time anonymously)\n",
    "from arcgis import GIS\n",
    "gis = GIS()"
   ]
  },
  {
   "cell_type": "code",
   "execution_count": 2,
   "metadata": {},
   "outputs": [],
   "source": [
    "#Fetch the census tract data from its item ID\n",
    "tractsItem = gis.content.get('db3f9c8728dd44e4ad455e0c27a85eea')"
   ]
  },
  {
   "cell_type": "code",
   "execution_count": 3,
   "metadata": {},
   "outputs": [
    {
     "data": {
      "text/html": [
       "<div class=\"item_container\" style=\"height: auto; overflow: hidden; border: 1px solid #cfcfcf; border-radius: 2px; background: #f6fafa; line-height: 1.21429em; padding: 10px;\">\n",
       "                    <div class=\"item_left\" style=\"width: 210px; float: left;\">\n",
       "                       <a href='https://www.arcgis.com/home/item.html?id=db3f9c8728dd44e4ad455e0c27a85eea' target='_blank'>\n",
       "                        <img src='https://www.arcgis.com/sharing/rest//content/items/db3f9c8728dd44e4ad455e0c27a85eea/info/thumbnail/thumbnail1641430361568.png' class=\"itemThumbnail\">\n",
       "                       </a>\n",
       "                    </div>\n",
       "\n",
       "                    <div class=\"item_right\"     style=\"float: none; width: auto; overflow: hidden;\">\n",
       "                        <a href='https://www.arcgis.com/home/item.html?id=db3f9c8728dd44e4ad455e0c27a85eea' target='_blank'><b>USA Census Tract Areas</b>\n",
       "                        </a>\n",
       "                        <br/>This layer presents the USA 2020 Census tracts of the United States in the 50 states and the District of Columbia.<img src='https://www.arcgis.com/home/js/jsapi/esri/css/images/item_type_icons/featureshosted16.png' style=\"vertical-align:middle;\">Feature Layer Collection by esri_dm\n",
       "                        <br/>Last Modified: June 13, 2022\n",
       "                        <br/>4 comments, 2370471 views\n",
       "                    </div>\n",
       "                </div>\n",
       "                "
      ],
      "text/plain": [
       "<Item title:\"USA Census Tract Areas\" type:Feature Layer Collection owner:esri_dm>"
      ]
     },
     "execution_count": 3,
     "metadata": {},
     "output_type": "execute_result"
    }
   ],
   "source": [
    "#Display the item\n",
    "tractsItem"
   ]
  },
  {
   "cell_type": "code",
   "execution_count": 4,
   "metadata": {},
   "outputs": [
    {
     "data": {
      "text/plain": [
       "arcgis.gis.Item"
      ]
     },
     "execution_count": 4,
     "metadata": {},
     "output_type": "execute_result"
    }
   ],
   "source": [
    "#Reveal the data type\n",
    "type(tractsItem)"
   ]
  },
  {
   "cell_type": "code",
   "execution_count": 5,
   "metadata": {},
   "outputs": [
    {
     "data": {
      "text/plain": [
       "'Feature Service'"
      ]
     },
     "execution_count": 5,
     "metadata": {},
     "output_type": "execute_result"
    }
   ],
   "source": [
    "#Reveal the the type of Item\n",
    "tractsItem.type"
   ]
  },
  {
   "cell_type": "markdown",
   "metadata": {},
   "source": [
    "---\n",
    "►  ***Knowledge check*** What is the item type for the item with the ID `427c34604a76466ba001fbc80817082a`"
   ]
  },
  {
   "cell_type": "code",
   "execution_count": 9,
   "metadata": {},
   "outputs": [
    {
     "data": {
      "text/plain": [
       "'Web Map'"
      ]
     },
     "execution_count": 9,
     "metadata": {},
     "output_type": "execute_result"
    }
   ],
   "source": [
    "#Show the type of item 427c34604a76466ba001fbc80817082a\n",
    "gis.content.get('427c34604a76466ba001fbc80817082a').type"
   ]
  },
  {
   "cell_type": "markdown",
   "metadata": {},
   "source": [
    "### Step 2. Exploring the item returned\n",
    "The result we obtained is a generic AGOL \"Item\" ([Reference](https://developers.arcgis.com/python/api-reference/arcgis.gis.toc.html#item)). The item we retrieved happens to represent a **Feature Service** item (as seen above), and as such it has defined properties and methods that we can access programatically. \n",
    "\n",
    "To see what these are, we can retrieve the API reference on the Feature Layer object:<br>\n",
    "https://developers.arcgis.com/python/api-reference/arcgis.features.toc.html#featurelayer\n",
    "\n",
    "What's important to understand here is the nestedness of objects served on AGOL. And this can be seen by accessing our object's REST endpoint:"
   ]
  },
  {
   "cell_type": "code",
   "execution_count": 10,
   "metadata": {},
   "outputs": [
    {
     "name": "stdout",
     "output_type": "stream",
     "text": [
      "https://services.arcgis.com/P3ePLMYs2RVChkJx/arcgis/rest/services/USA_Census_Tract_Areas_analysis_trim/FeatureServer\n"
     ]
    }
   ],
   "source": [
    "#Show the URL of the feature server's REST endpoint\n",
    "print(tractsItem.url)"
   ]
  },
  {
   "cell_type": "markdown",
   "metadata": {},
   "source": [
    "Click on the above link to access its REST endpoint. \n",
    "\n",
    "There you see indeed that it is a Feature Server. You also can see what **Feature Layers** are contained in this feature service:\n",
    "\n",
    ">**Layers:**\n",
    ">* [tracts_trim](https://services.arcgis.com/P3ePLMYs2RVChkJx/ArcGIS/rest/services/USA_Census_Tract_Areas_analysis_trim/FeatureServer/0) (0)"
   ]
  },
  {
   "cell_type": "markdown",
   "metadata": {},
   "source": [
    "This indicates that we have just one feature layer associated with the feature service. We can reveal this via the ArcGIS Python API via the Feature Layers `layers` property:"
   ]
  },
  {
   "cell_type": "code",
   "execution_count": 11,
   "metadata": {},
   "outputs": [
    {
     "data": {
      "text/plain": [
       "[<FeatureLayer url:\"https://services.arcgis.com/P3ePLMYs2RVChkJx/arcgis/rest/services/USA_Census_Tract_Areas_analysis_trim/FeatureServer/0\">]"
      ]
     },
     "execution_count": 11,
     "metadata": {},
     "output_type": "execute_result"
    }
   ],
   "source": [
    "#Extract the layer(s) included with this feature service\n",
    "tractLayers = tractsItem.layers\n",
    "tractLayers"
   ]
  },
  {
   "cell_type": "markdown",
   "metadata": {},
   "source": [
    "This returns a list with just one layer in it -- just as we found in the browser based exploration. Now we extract that layer into its own coding object and reveal the data type of this object. "
   ]
  },
  {
   "cell_type": "code",
   "execution_count": 12,
   "metadata": {},
   "outputs": [
    {
     "data": {
      "text/plain": [
       "arcgis.features.layer.FeatureLayer"
      ]
     },
     "execution_count": 12,
     "metadata": {},
     "output_type": "execute_result"
    }
   ],
   "source": [
    "#Pull the one layer item associated with the service to a new variable\n",
    "tractsLayer = tractLayers[0]\n",
    "type(tractsLayer)"
   ]
  },
  {
   "cell_type": "markdown",
   "metadata": {},
   "source": [
    "We see this object is something called a **\"FeatureLayer\"**. We can explore the help on this object to see just what we can do with this kind of thing. Note also, however, the *FeatureLayer* object is a subset of the *Layer* object, and thus some of the operations of the Layer object will apply to the FeatureLayer object as well. So, we'd want to investigate the documentation on that object too. (In code speak, this is called *inheritance*: FeatureLayers inherit properies and methods from the Layer object...)\n",
    "\n",
    "→ More info on the ArcGIS `layer` object: https://esri.github.io/arcgis-python-api/apidoc/html/arcgis.gis.toc.html#layer<br>\n",
    "→ More info on the ArcGIS `FeatureLayer` object: https://esri.github.io/arcgis-python-api/apidoc/html/arcgis.features.toc.html#featurelayer"
   ]
  },
  {
   "cell_type": "markdown",
   "metadata": {},
   "source": [
    "#### Mapping\n",
    "The ArcGIS Python API has some nice mapping capability. Detailed information is at the link below, but a quick example goes a long way.\n",
    "* https://developers.arcgis.com/python/guide/using-the-map-widget/"
   ]
  },
  {
   "cell_type": "code",
   "execution_count": 13,
   "metadata": {},
   "outputs": [
    {
     "data": {
      "application/vnd.jupyter.widget-view+json": {
       "model_id": "772b81736240450197d0ed0533af94dd",
       "version_major": 2,
       "version_minor": 0
      },
      "text/plain": [
       "MapView(layout=Layout(height='400px', width='100%'))"
      ]
     },
     "metadata": {},
     "output_type": "display_data"
    },
    {
     "data": {
      "text/html": [
       "<div class=\"map-static-img-preview-a769156a-d5dd-4031-b061-6022dc44d9a0\"><img src=\"\"></img></div>"
      ],
      "text/plain": [
       "<IPython.core.display.HTML object>"
      ]
     },
     "metadata": {},
     "output_type": "display_data"
    },
    {
     "data": {
      "text/html": [
       "<div class=\"map-html-embed-preview-a769156a-d5dd-4031-b061-6022dc44d9a0\"></div>"
      ],
      "text/plain": [
       "<IPython.core.display.HTML object>"
      ]
     },
     "metadata": {},
     "output_type": "display_data"
    }
   ],
   "source": [
    "#Map the feature layer\n",
    "m = gis.map('Durham, NC') #Create the map object, centered on Durham, NC\n",
    "m.add_layer(tractsLayer)  #Adds the census tracts layer to the map\n",
    "m                         #Displays the map"
   ]
  },
  {
   "cell_type": "code",
   "execution_count": 22,
   "metadata": {},
   "outputs": [
    {
     "data": {
      "application/vnd.jupyter.widget-view+json": {
       "model_id": "3b1119f2eb71407eabc5d40bdbe2a277",
       "version_major": 2,
       "version_minor": 0
      },
      "text/plain": [
       "MapView(layout=Layout(height='400px', width='100%'))"
      ]
     },
     "metadata": {},
     "output_type": "display_data"
    },
    {
     "data": {
      "text/html": [
       "<div class=\"map-static-img-preview-ab04231a-1460-43e6-9099-628ced98b60e\"><img src=\"\"></img></div>"
      ],
      "text/plain": [
       "<IPython.core.display.HTML object>"
      ]
     },
     "metadata": {},
     "output_type": "display_data"
    },
    {
     "data": {
      "text/html": [
       "<div class=\"map-html-embed-preview-ab04231a-1460-43e6-9099-628ced98b60e\"></div>"
      ],
      "text/plain": [
       "<IPython.core.display.HTML object>"
      ]
     },
     "metadata": {},
     "output_type": "display_data"
    }
   ],
   "source": [
    "#Map just Durham records and color by a field value\n",
    "map2 = gis.map('Durham County, NC') #Create the map object, centered on Durham, NC\n",
    "map2.add_layer(tractsLayer,{\"definition_expression\":\"COUNTY='Durham County'\", #Filter records for just Durham \n",
    "                            \"renderer\":\"ClassedColorRenderer\",         #Create a color renderer object\n",
    "                            \"field_name\":\"Population\",                 #Color based on the POPULATION field values\n",
    "                            \"opacity\":0.7                              #Lighten the opacity\n",
    "                         })  \n",
    "map2"
   ]
  },
  {
   "cell_type": "markdown",
   "metadata": {},
   "source": [
    "---\n",
    "\n",
    "### Step 5. Explore properties of the FeatureLayer object\n",
    "The [`properties`](https://esri.github.io/arcgis-python-api/apidoc/html/arcgis.features.toc.html#arcgis.features.FeatureLayer.properties) function of the FeatureLayers object returns a dictionary of properties. \n",
    "* Print the entire `properties` object to expose all the properties..."
   ]
  },
  {
   "cell_type": "code",
   "execution_count": 23,
   "metadata": {},
   "outputs": [
    {
     "data": {
      "text/plain": [
       "{\n",
       "  \"currentVersion\": 11,\n",
       "  \"id\": 0,\n",
       "  \"name\": \"tracts_trim\",\n",
       "  \"type\": \"Feature Layer\",\n",
       "  \"serviceItemId\": \"db3f9c8728dd44e4ad455e0c27a85eea\",\n",
       "  \"cacheMaxAge\": 3600,\n",
       "  \"displayField\": \"\",\n",
       "  \"description\": \"\",\n",
       "  \"copyrightText\": \"\",\n",
       "  \"defaultVisibility\": true,\n",
       "  \"editingInfo\": {\n",
       "    \"lastEditDate\": 1647033867857,\n",
       "    \"schemaLastEditDate\": 1647033867857,\n",
       "    \"dataLastEditDate\": 1647033867857\n",
       "  },\n",
       "  \"multiScaleGeometryInfo\": {\n",
       "    \"levels\": [\n",
       "      1,\n",
       "      3,\n",
       "      5,\n",
       "      7\n",
       "    ],\n",
       "    \"generalizationType\": \"Quantization\"\n",
       "  },\n",
       "  \"relationships\": [],\n",
       "  \"isDataVersioned\": false,\n",
       "  \"hasContingentValuesDefinition\": false,\n",
       "  \"supportsAppend\": true,\n",
       "  \"supportsCalculate\": true,\n",
       "  \"supportsASyncCalculate\": true,\n",
       "  \"supportsTruncate\": true,\n",
       "  \"supportsAttachmentsByUploadId\": true,\n",
       "  \"supportsAttachmentsResizing\": true,\n",
       "  \"supportsRollbackOnFailureParameter\": true,\n",
       "  \"supportsStatistics\": true,\n",
       "  \"supportsExceedsLimitStatistics\": true,\n",
       "  \"supportsAdvancedQueries\": true,\n",
       "  \"supportsValidateSql\": true,\n",
       "  \"supportsCoordinatesQuantization\": true,\n",
       "  \"supportsLayerOverrides\": true,\n",
       "  \"supportsTilesAndBasicQueriesMode\": true,\n",
       "  \"supportsFieldDescriptionProperty\": true,\n",
       "  \"supportsQuantizationEditMode\": true,\n",
       "  \"supportsApplyEditsWithGlobalIds\": false,\n",
       "  \"supportsMultiScaleGeometry\": true,\n",
       "  \"supportsReturningQueryGeometry\": true,\n",
       "  \"hasGeometryProperties\": true,\n",
       "  \"geometryProperties\": {\n",
       "    \"shapeAreaFieldName\": \"Shape__Area\",\n",
       "    \"shapeLengthFieldName\": \"Shape__Length\",\n",
       "    \"units\": \"esriMeters\"\n",
       "  },\n",
       "  \"advancedQueryCapabilities\": {\n",
       "    \"supportsPagination\": true,\n",
       "    \"supportsQueryAttachmentsCountOnly\": true,\n",
       "    \"supportsPaginationOnAggregatedQueries\": true,\n",
       "    \"supportsQueryRelatedPagination\": true,\n",
       "    \"supportsQueryWithDistance\": true,\n",
       "    \"supportsReturningQueryExtent\": true,\n",
       "    \"supportsStatistics\": true,\n",
       "    \"supportsOrderBy\": true,\n",
       "    \"supportsDistinct\": true,\n",
       "    \"supportsQueryWithResultType\": true,\n",
       "    \"supportsSqlExpression\": true,\n",
       "    \"supportsAdvancedQueryRelated\": true,\n",
       "    \"supportsCountDistinct\": true,\n",
       "    \"supportsPercentileStatistics\": true,\n",
       "    \"supportsSpatialAggregationStatistics\": true,\n",
       "    \"supportedSpatialAggregationStatistics\": [\n",
       "      \"EnvelopeAggregate\",\n",
       "      \"CentroidAggregate\",\n",
       "      \"ConvexHullAggregate\"\n",
       "    ],\n",
       "    \"supportsLod\": true,\n",
       "    \"supportsQueryWithLodSR\": false,\n",
       "    \"supportedLodTypes\": [\n",
       "      \"geohash\"\n",
       "    ],\n",
       "    \"supportsReturningGeometryCentroid\": true,\n",
       "    \"supportsReturningGeometryProperties\": true,\n",
       "    \"supportsQueryWithDatumTransformation\": true,\n",
       "    \"supportsHavingClause\": true,\n",
       "    \"supportsOutFieldSQLExpression\": true,\n",
       "    \"supportsMaxRecordCountFactor\": true,\n",
       "    \"supportsTopFeaturesQuery\": true,\n",
       "    \"supportsDisjointSpatialRel\": true,\n",
       "    \"supportsQueryWithCacheHint\": true,\n",
       "    \"supportedOperationsWithCacheHint\": [\n",
       "      \"query\",\n",
       "      \"queryTopFilter\",\n",
       "      \"queryAnalytics\",\n",
       "      \"queryAttachments\",\n",
       "      \"queryRelated\"\n",
       "    ],\n",
       "    \"supportsQueryAnalytic\": true,\n",
       "    \"supportsDefaultSR\": true,\n",
       "    \"supportsFullTextSearch\": true\n",
       "  },\n",
       "  \"advancedQueryAnalyticCapabilities\": {\n",
       "    \"supportsLinearRegression\": true,\n",
       "    \"supportsAsync\": true,\n",
       "    \"supportsPercentileAnalytic\": true\n",
       "  },\n",
       "  \"advancedEditingCapabilities\": {\n",
       "    \"supportedSqlFormatsInCalculate\": [\n",
       "      \"standard\"\n",
       "    ],\n",
       "    \"supportsAsyncApplyEdits\": true,\n",
       "    \"supportsReturnEditResults\": true\n",
       "  },\n",
       "  \"infoInEstimates\": [\n",
       "    \"extent\",\n",
       "    \"count\"\n",
       "  ],\n",
       "  \"useStandardizedQueries\": true,\n",
       "  \"geometryType\": \"esriGeometryPolygon\",\n",
       "  \"minScale\": 0,\n",
       "  \"maxScale\": 0,\n",
       "  \"extent\": {\n",
       "    \"xmin\": -19942590.66576945,\n",
       "    \"ymin\": 2023652.7986267817,\n",
       "    \"xmax\": 20012847.17939636,\n",
       "    \"ymax\": 11537127.333547544,\n",
       "    \"spatialReference\": {\n",
       "      \"wkid\": 102100,\n",
       "      \"latestWkid\": 3857\n",
       "    }\n",
       "  },\n",
       "  \"drawingInfo\": {\n",
       "    \"renderer\": {\n",
       "      \"type\": \"simple\",\n",
       "      \"symbol\": {\n",
       "        \"color\": [\n",
       "          255,\n",
       "          190,\n",
       "          232,\n",
       "          126\n",
       "        ],\n",
       "        \"outline\": {\n",
       "          \"color\": [\n",
       "            112,\n",
       "            112,\n",
       "            112,\n",
       "            129\n",
       "          ],\n",
       "          \"width\": 0.75,\n",
       "          \"type\": \"esriSLS\",\n",
       "          \"style\": \"esriSLSSolid\"\n",
       "        },\n",
       "        \"type\": \"esriSFS\",\n",
       "        \"style\": \"esriSFSSolid\"\n",
       "      }\n",
       "    },\n",
       "    \"transparency\": 0\n",
       "  },\n",
       "  \"allowGeometryUpdates\": true,\n",
       "  \"hasAttachments\": false,\n",
       "  \"htmlPopupType\": \"esriServerHTMLPopupTypeNone\",\n",
       "  \"hasMetadata\": true,\n",
       "  \"hasM\": false,\n",
       "  \"hasZ\": false,\n",
       "  \"objectIdField\": \"OBJECTID\",\n",
       "  \"uniqueIdField\": {\n",
       "    \"name\": \"OBJECTID\",\n",
       "    \"isSystemMaintained\": true\n",
       "  },\n",
       "  \"globalIdField\": \"\",\n",
       "  \"typeIdField\": \"\",\n",
       "  \"fields\": [\n",
       "    {\n",
       "      \"name\": \"OBJECTID\",\n",
       "      \"type\": \"esriFieldTypeOID\",\n",
       "      \"alias\": \"OBJECTID\",\n",
       "      \"sqlType\": \"sqlTypeOther\",\n",
       "      \"nullable\": false,\n",
       "      \"editable\": false,\n",
       "      \"domain\": null,\n",
       "      \"defaultValue\": null\n",
       "    },\n",
       "    {\n",
       "      \"name\": \"FIPS\",\n",
       "      \"type\": \"esriFieldTypeString\",\n",
       "      \"alias\": \"FIPS\",\n",
       "      \"sqlType\": \"sqlTypeOther\",\n",
       "      \"length\": 11,\n",
       "      \"nullable\": true,\n",
       "      \"editable\": true,\n",
       "      \"domain\": null,\n",
       "      \"defaultValue\": null\n",
       "    },\n",
       "    {\n",
       "      \"name\": \"COUNTY\",\n",
       "      \"type\": \"esriFieldTypeString\",\n",
       "      \"alias\": \"COUNTY\",\n",
       "      \"sqlType\": \"sqlTypeOther\",\n",
       "      \"length\": 50,\n",
       "      \"nullable\": true,\n",
       "      \"editable\": true,\n",
       "      \"domain\": null,\n",
       "      \"defaultValue\": null\n",
       "    },\n",
       "    {\n",
       "      \"name\": \"STATE\",\n",
       "      \"type\": \"esriFieldTypeString\",\n",
       "      \"alias\": \"STATE\",\n",
       "      \"sqlType\": \"sqlTypeOther\",\n",
       "      \"length\": 2,\n",
       "      \"nullable\": true,\n",
       "      \"editable\": true,\n",
       "      \"domain\": null,\n",
       "      \"defaultValue\": null\n",
       "    },\n",
       "    {\n",
       "      \"name\": \"POPULATION\",\n",
       "      \"type\": \"esriFieldTypeInteger\",\n",
       "      \"alias\": \"POP2020\",\n",
       "      \"sqlType\": \"sqlTypeOther\",\n",
       "      \"nullable\": true,\n",
       "      \"editable\": true,\n",
       "      \"domain\": null,\n",
       "      \"defaultValue\": null\n",
       "    },\n",
       "    {\n",
       "      \"name\": \"SQMI\",\n",
       "      \"type\": \"esriFieldTypeDouble\",\n",
       "      \"alias\": \"SQMI\",\n",
       "      \"sqlType\": \"sqlTypeOther\",\n",
       "      \"nullable\": true,\n",
       "      \"editable\": true,\n",
       "      \"domain\": null,\n",
       "      \"defaultValue\": null\n",
       "    },\n",
       "    {\n",
       "      \"name\": \"Shape__Area\",\n",
       "      \"type\": \"esriFieldTypeDouble\",\n",
       "      \"alias\": \"Shape__Area\",\n",
       "      \"sqlType\": \"sqlTypeDouble\",\n",
       "      \"nullable\": true,\n",
       "      \"editable\": false,\n",
       "      \"domain\": null,\n",
       "      \"defaultValue\": null\n",
       "    },\n",
       "    {\n",
       "      \"name\": \"Shape__Length\",\n",
       "      \"type\": \"esriFieldTypeDouble\",\n",
       "      \"alias\": \"Shape__Length\",\n",
       "      \"sqlType\": \"sqlTypeDouble\",\n",
       "      \"nullable\": true,\n",
       "      \"editable\": false,\n",
       "      \"domain\": null,\n",
       "      \"defaultValue\": null\n",
       "    }\n",
       "  ],\n",
       "  \"indexes\": [\n",
       "    {\n",
       "      \"name\": \"Shape__Area_Index\",\n",
       "      \"fields\": \"Shape__Area\",\n",
       "      \"isAscending\": true,\n",
       "      \"isUnique\": false,\n",
       "      \"description\": \"\"\n",
       "    },\n",
       "    {\n",
       "      \"name\": \"Shape__Length_Index\",\n",
       "      \"fields\": \"Shape__Length\",\n",
       "      \"isAscending\": true,\n",
       "      \"isUnique\": false,\n",
       "      \"description\": \"\"\n",
       "    },\n",
       "    {\n",
       "      \"name\": \"PK__USA_CENS__F4B70D85EB5A5124\",\n",
       "      \"fields\": \"OBJECTID\",\n",
       "      \"isAscending\": true,\n",
       "      \"isUnique\": true,\n",
       "      \"description\": \"clustered, unique, primary key\"\n",
       "    },\n",
       "    {\n",
       "      \"name\": \"user_256.USA_CENSUS_TRACT_AREAS_ANALYSIS_TRIM_TRACTS_TRIM_Shape_sidx\",\n",
       "      \"fields\": \"Shape\",\n",
       "      \"isAscending\": false,\n",
       "      \"isUnique\": false,\n",
       "      \"description\": \"Shape Index\"\n",
       "    },\n",
       "    {\n",
       "      \"name\": \"insights_idx_d16e6d333cdd1ceb66b314585da73f57\",\n",
       "      \"fields\": \"STATE\",\n",
       "      \"isAscending\": false,\n",
       "      \"isUnique\": false,\n",
       "      \"description\": \"Auto created by ArcGIS Insights\"\n",
       "    },\n",
       "    {\n",
       "      \"name\": \"insights_idx_d16e6d333cdd1ceb66b314585da73f57\",\n",
       "      \"fields\": \"STATE\",\n",
       "      \"isAscending\": false,\n",
       "      \"isUnique\": false,\n",
       "      \"description\": \"Auto created by ArcGIS Insights\"\n",
       "    },\n",
       "    {\n",
       "      \"name\": \"insights_idx_c8d7327432f7ed524a677786efee82be\",\n",
       "      \"fields\": \"COUNTY\",\n",
       "      \"isAscending\": false,\n",
       "      \"isUnique\": false,\n",
       "      \"description\": \"Auto created by ArcGIS Insights\"\n",
       "    },\n",
       "    {\n",
       "      \"name\": \"insights_idx_c8d7327432f7ed524a677786efee82be\",\n",
       "      \"fields\": \"COUNTY\",\n",
       "      \"isAscending\": false,\n",
       "      \"isUnique\": false,\n",
       "      \"description\": \"Auto created by ArcGIS Insights\"\n",
       "    },\n",
       "    {\n",
       "      \"name\": \"insights_idx_f7c211ba5d540a6e799ef9098319fdde\",\n",
       "      \"fields\": \"POPULATION\",\n",
       "      \"isAscending\": false,\n",
       "      \"isUnique\": false,\n",
       "      \"description\": \"Auto created by ArcGIS Insights\"\n",
       "    },\n",
       "    {\n",
       "      \"name\": \"insights_idx_f7c211ba5d540a6e799ef9098319fdde\",\n",
       "      \"fields\": \"POPULATION\",\n",
       "      \"isAscending\": false,\n",
       "      \"isUnique\": false,\n",
       "      \"description\": \"Auto created by ArcGIS Insights\"\n",
       "    },\n",
       "    {\n",
       "      \"name\": \"insights_idx_cf2c6e1ae9ff3ccb8a8dd342a4d0eed4\",\n",
       "      \"fields\": \"FIPS\",\n",
       "      \"isAscending\": false,\n",
       "      \"isUnique\": false,\n",
       "      \"description\": \"Auto created by ArcGIS Insights\"\n",
       "    },\n",
       "    {\n",
       "      \"name\": \"insights_idx_cf2c6e1ae9ff3ccb8a8dd342a4d0eed4\",\n",
       "      \"fields\": \"FIPS\",\n",
       "      \"isAscending\": false,\n",
       "      \"isUnique\": false,\n",
       "      \"description\": \"Auto created by ArcGIS Insights\"\n",
       "    }\n",
       "  ],\n",
       "  \"dateFieldsTimeReference\": {\n",
       "    \"timeZone\": \"UTC\",\n",
       "    \"respectsDaylightSaving\": false\n",
       "  },\n",
       "  \"preferredTimeReference\": null,\n",
       "  \"types\": [],\n",
       "  \"templates\": [\n",
       "    {\n",
       "      \"name\": \"New Feature\",\n",
       "      \"description\": \"\",\n",
       "      \"drawingTool\": \"esriFeatureEditToolPolygon\",\n",
       "      \"prototype\": {\n",
       "        \"attributes\": {\n",
       "          \"FIPS\": null,\n",
       "          \"COUNTY\": null,\n",
       "          \"STATE\": null,\n",
       "          \"POPULATION\": null,\n",
       "          \"SQMI\": null\n",
       "        }\n",
       "      }\n",
       "    }\n",
       "  ],\n",
       "  \"supportedQueryFormats\": \"JSON, geoJSON, PBF\",\n",
       "  \"supportedAppendFormats\": \"sqlite,geoPackage,shapefile,filegdb,featureCollection,geojson,csv,excel\",\n",
       "  \"supportedExportFormats\": \"csv,shapefile,sqlite,geoPackage,filegdb,featureCollection,geojson,excel\",\n",
       "  \"supportedSpatialRelationships\": [\n",
       "    \"esriSpatialRelIntersects\",\n",
       "    \"esriSpatialRelContains\",\n",
       "    \"esriSpatialRelCrosses\",\n",
       "    \"esriSpatialRelEnvelopeIntersects\",\n",
       "    \"esriSpatialRelIndexIntersects\",\n",
       "    \"esriSpatialRelOverlaps\",\n",
       "    \"esriSpatialRelTouches\",\n",
       "    \"esriSpatialRelWithin\",\n",
       "    \"esriSpatialRelDisjoint\",\n",
       "    \"esriSpatialRelRelation\"\n",
       "  ],\n",
       "  \"supportedContingentValuesFormats\": \"JSON, PBF\",\n",
       "  \"supportedSyncDataOptions\": 4,\n",
       "  \"hasStaticData\": true,\n",
       "  \"maxRecordCount\": 2000,\n",
       "  \"standardMaxRecordCount\": 4000,\n",
       "  \"standardMaxRecordCountNoGeometry\": 32000,\n",
       "  \"tileMaxRecordCount\": 4000,\n",
       "  \"maxRecordCountFactor\": 1,\n",
       "  \"capabilities\": \"Query,Extract\"\n",
       "}"
      ]
     },
     "execution_count": 23,
     "metadata": {},
     "output_type": "execute_result"
    }
   ],
   "source": [
    "#Reveal all properties of the feature layer\n",
    "tractsLayer.properties"
   ]
  },
  {
   "cell_type": "markdown",
   "metadata": {},
   "source": [
    "* Print specific properties. What is the `service item ID` of our feature layer? Its `name`? Its `capabilities`? "
   ]
  },
  {
   "cell_type": "code",
   "execution_count": 24,
   "metadata": {},
   "outputs": [
    {
     "name": "stdout",
     "output_type": "stream",
     "text": [
      "Service item ID: db3f9c8728dd44e4ad455e0c27a85eea\n",
      "Name: tracts_trim\n",
      "Capabilities Query,Extract\n"
     ]
    }
   ],
   "source": [
    "#Report the tractsLayer \"itemID\", \"name\", and \"capabilities\"\n",
    "print(\"Service item ID:\", tractsLayer.properties.serviceItemId)\n",
    "print(\"Name:\",tractsLayer.properties.name)\n",
    "print(\"Capabilities\",tractsLayer.properties.capabilities)"
   ]
  },
  {
   "cell_type": "markdown",
   "metadata": {},
   "source": [
    "* The `fields` property returns another dictionary. Save that to a new variable then iterate through each field and print the field's name"
   ]
  },
  {
   "cell_type": "code",
   "execution_count": 25,
   "metadata": {},
   "outputs": [
    {
     "name": "stdout",
     "output_type": "stream",
     "text": [
      "OBJECTID,FIPS,COUNTY,STATE,POPULATION,SQMI,Shape__Area,Shape__Length,"
     ]
    }
   ],
   "source": [
    "#Iterate through all fields and report the field's name\n",
    "for fld in tractsLayer.properties.fields:\n",
    "    print (fld.name, end=',')"
   ]
  },
  {
   "cell_type": "code",
   "execution_count": null,
   "metadata": {},
   "outputs": [],
   "source": [
    "#Same as above, but using \"list comprehension\"\n",
    "print([fld.name for fld in tractsLayer.properties.fields])"
   ]
  },
  {
   "cell_type": "markdown",
   "metadata": {},
   "source": [
    "### Step 6. Interact with our Feature Layer\n",
    "Moving beyond just the properties, we can apply some of the methods associated with the feature layer. Most methods are for updating data, which we can't do, but we can list unique values and also subset records via a query. \n",
    "\n",
    "* List all the **unique values** in the STATE column in the feature layer"
   ]
  },
  {
   "cell_type": "code",
   "execution_count": 26,
   "metadata": {},
   "outputs": [
    {
     "name": "stdout",
     "output_type": "stream",
     "text": [
      "['AK', 'AL', 'AR', 'AZ', 'CA', 'CO', 'CT', 'DC', 'DE', 'FL', 'GA', 'HI', 'IA', 'ID', 'IL', 'IN', 'KS', 'KY', 'LA', 'MA', 'MD', 'ME', 'MI', 'MN', 'MO', 'MS', 'MT', 'NC', 'ND', 'NE', 'NH', 'NJ', 'NM', 'NV', 'NY', 'OH', 'OK', 'OR', 'PA', 'RI', 'SC', 'SD', 'TN', 'TX', 'UT', 'VA', 'VT', 'WA', 'WI', 'WV', 'WY']\n"
     ]
    }
   ],
   "source": [
    "#List the unique values found in the STATE attribute. \n",
    "print(tractsLayer.get_unique_values('STATE'))"
   ]
  },
  {
   "cell_type": "markdown",
   "metadata": {},
   "source": [
    "* **Query** the records in the Feature Layer"
   ]
  },
  {
   "cell_type": "code",
   "execution_count": 27,
   "metadata": {},
   "outputs": [
    {
     "data": {
      "text/plain": [
       "arcgis.features.feature.FeatureSet"
      ]
     },
     "execution_count": 27,
     "metadata": {},
     "output_type": "execute_result"
    }
   ],
   "source": [
    "#Subset records that are in Durham Co (FIPS 37063)\n",
    "fset_Durham = tractsLayer.query(where=\"FIPS LIKE '37063%'\")\n",
    "type(fset_Durham)"
   ]
  },
  {
   "cell_type": "markdown",
   "metadata": {},
   "source": [
    "The object returned is a **Feature Set**. ([Reference on feature set](https://developers.arcgis.com/python/api-reference/arcgis.features.toc.html#featureset))"
   ]
  },
  {
   "cell_type": "code",
   "execution_count": 28,
   "metadata": {},
   "outputs": [
    {
     "data": {
      "text/plain": [
       "68"
      ]
     },
     "execution_count": 28,
     "metadata": {},
     "output_type": "execute_result"
    }
   ],
   "source": [
    "#Display the number of results returned\n",
    "len(fset_Durham)"
   ]
  },
  {
   "cell_type": "markdown",
   "metadata": {},
   "source": [
    "* Create a quick map of the feature set.<br>\n",
    "→ _Note feature sets use the map object's `draw()` function, whereas the feature layer above uses the `.add_layer()` function._ <br>\n",
    "→ _Also note that sometimes you need to run the process twice to show the data..._"
   ]
  },
  {
   "cell_type": "code",
   "execution_count": 29,
   "metadata": {},
   "outputs": [
    {
     "data": {
      "application/vnd.jupyter.widget-view+json": {
       "model_id": "660704899c894a8ca2dadda25508351c",
       "version_major": 2,
       "version_minor": 0
      },
      "text/plain": [
       "MapView(layout=Layout(height='400px', width='100%'))"
      ]
     },
     "metadata": {},
     "output_type": "display_data"
    },
    {
     "data": {
      "text/html": [
       "<div class=\"map-static-img-preview-c2b0f46d-dc99-468d-8f5e-db139035cdbb\"><img src=\"\"></img></div>"
      ],
      "text/plain": [
       "<IPython.core.display.HTML object>"
      ]
     },
     "metadata": {},
     "output_type": "display_data"
    },
    {
     "data": {
      "text/html": [
       "<div class=\"map-html-embed-preview-c2b0f46d-dc99-468d-8f5e-db139035cdbb\"></div>"
      ],
      "text/plain": [
       "<IPython.core.display.HTML object>"
      ]
     },
     "metadata": {},
     "output_type": "display_data"
    }
   ],
   "source": [
    "#Map the feature set with 'draw'\n",
    "map3 = gis.map('Durham County, NC')\n",
    "map3.basemap = 'osm' #(run map3.basemaps to create a list of basemap options)\n",
    "map3.draw(fset_Durham,popup={'title':'COUNTY','content':'FIPS'})\n",
    "map3"
   ]
  },
  {
   "cell_type": "markdown",
   "metadata": {},
   "source": [
    "* Report the geometry type of the FeatureSet"
   ]
  },
  {
   "cell_type": "code",
   "execution_count": 30,
   "metadata": {},
   "outputs": [
    {
     "data": {
      "text/plain": [
       "'esriGeometryPolygon'"
      ]
     },
     "execution_count": 30,
     "metadata": {},
     "output_type": "execute_result"
    }
   ],
   "source": [
    "#What geometry type is the result\n",
    "fset_Durham.geometry_type"
   ]
  },
  {
   "cell_type": "markdown",
   "metadata": {},
   "source": [
    "* Convert the featureset to a spatial dataframe with its `sdf` command"
   ]
  },
  {
   "cell_type": "code",
   "execution_count": 31,
   "metadata": {},
   "outputs": [
    {
     "data": {
      "text/html": [
       "<div>\n",
       "<style scoped>\n",
       "    .dataframe tbody tr th:only-of-type {\n",
       "        vertical-align: middle;\n",
       "    }\n",
       "\n",
       "    .dataframe tbody tr th {\n",
       "        vertical-align: top;\n",
       "    }\n",
       "\n",
       "    .dataframe thead th {\n",
       "        text-align: right;\n",
       "    }\n",
       "</style>\n",
       "<table border=\"1\" class=\"dataframe\">\n",
       "  <thead>\n",
       "    <tr style=\"text-align: right;\">\n",
       "      <th></th>\n",
       "      <th>OBJECTID</th>\n",
       "      <th>FIPS</th>\n",
       "      <th>COUNTY</th>\n",
       "      <th>STATE</th>\n",
       "      <th>POPULATION</th>\n",
       "      <th>SQMI</th>\n",
       "      <th>Shape__Area</th>\n",
       "      <th>Shape__Length</th>\n",
       "      <th>SHAPE</th>\n",
       "    </tr>\n",
       "  </thead>\n",
       "  <tbody>\n",
       "    <tr>\n",
       "      <th>0</th>\n",
       "      <td>55495</td>\n",
       "      <td>37063000101</td>\n",
       "      <td>Durham County</td>\n",
       "      <td>NC</td>\n",
       "      <td>3330.0</td>\n",
       "      <td>1.30</td>\n",
       "      <td>5.167669e+06</td>\n",
       "      <td>10423.301594</td>\n",
       "      <td>{\"rings\": [[[-8781935.0392, 4305494.8451], [-8...</td>\n",
       "    </tr>\n",
       "    <tr>\n",
       "      <th>1</th>\n",
       "      <td>55496</td>\n",
       "      <td>37063000102</td>\n",
       "      <td>Durham County</td>\n",
       "      <td>NC</td>\n",
       "      <td>4988.0</td>\n",
       "      <td>1.54</td>\n",
       "      <td>6.127327e+06</td>\n",
       "      <td>12098.778726</td>\n",
       "      <td>{\"rings\": [[[-8783363.714, 4306525.96989999], ...</td>\n",
       "    </tr>\n",
       "    <tr>\n",
       "      <th>2</th>\n",
       "      <td>55497</td>\n",
       "      <td>37063000200</td>\n",
       "      <td>Durham County</td>\n",
       "      <td>NC</td>\n",
       "      <td>3242.0</td>\n",
       "      <td>1.17</td>\n",
       "      <td>4.626619e+06</td>\n",
       "      <td>10356.283454</td>\n",
       "      <td>{\"rings\": [[[-8781315.32329999, 4302557.2964],...</td>\n",
       "    </tr>\n",
       "    <tr>\n",
       "      <th>3</th>\n",
       "      <td>55498</td>\n",
       "      <td>37063000301</td>\n",
       "      <td>Durham County</td>\n",
       "      <td>NC</td>\n",
       "      <td>2620.0</td>\n",
       "      <td>0.61</td>\n",
       "      <td>2.429881e+06</td>\n",
       "      <td>7821.606749</td>\n",
       "      <td>{\"rings\": [[[-8782926.45079999, 4303090.874000...</td>\n",
       "    </tr>\n",
       "    <tr>\n",
       "      <th>4</th>\n",
       "      <td>55499</td>\n",
       "      <td>37063000302</td>\n",
       "      <td>Durham County</td>\n",
       "      <td>NC</td>\n",
       "      <td>3829.0</td>\n",
       "      <td>0.66</td>\n",
       "      <td>2.637309e+06</td>\n",
       "      <td>7076.598293</td>\n",
       "      <td>{\"rings\": [[[-8782669.3027, 4302959.9888], [-8...</td>\n",
       "    </tr>\n",
       "  </tbody>\n",
       "</table>\n",
       "</div>"
      ],
      "text/plain": [
       "   OBJECTID         FIPS         COUNTY STATE  POPULATION  SQMI   Shape__Area  \\\n",
       "0     55495  37063000101  Durham County    NC      3330.0  1.30  5.167669e+06   \n",
       "1     55496  37063000102  Durham County    NC      4988.0  1.54  6.127327e+06   \n",
       "2     55497  37063000200  Durham County    NC      3242.0  1.17  4.626619e+06   \n",
       "3     55498  37063000301  Durham County    NC      2620.0  0.61  2.429881e+06   \n",
       "4     55499  37063000302  Durham County    NC      3829.0  0.66  2.637309e+06   \n",
       "\n",
       "   Shape__Length                                              SHAPE  \n",
       "0   10423.301594  {\"rings\": [[[-8781935.0392, 4305494.8451], [-8...  \n",
       "1   12098.778726  {\"rings\": [[[-8783363.714, 4306525.96989999], ...  \n",
       "2   10356.283454  {\"rings\": [[[-8781315.32329999, 4302557.2964],...  \n",
       "3    7821.606749  {\"rings\": [[[-8782926.45079999, 4303090.874000...  \n",
       "4    7076.598293  {\"rings\": [[[-8782669.3027, 4302959.9888], [-8...  "
      ]
     },
     "execution_count": 31,
     "metadata": {},
     "output_type": "execute_result"
    }
   ],
   "source": [
    "sdf_Durham = fset_Durham.sdf\n",
    "sdf_Durham.head()"
   ]
  },
  {
   "cell_type": "markdown",
   "metadata": {},
   "source": [
    "### Step 7. Save our data to a local file!\n",
    "* The FeatureSet has another function called `save` which allows us to download our queried results."
   ]
  },
  {
   "cell_type": "code",
   "execution_count": 33,
   "metadata": {},
   "outputs": [
    {
     "data": {
      "text/plain": [
       "'.\\\\DurhamTracts.shp'"
      ]
     },
     "execution_count": 33,
     "metadata": {},
     "output_type": "execute_result"
    }
   ],
   "source": [
    "#Save the selected features to a shapefile\n",
    "fset_Durham.save(save_location='.',out_name='DurhamTracts')"
   ]
  },
  {
   "cell_type": "markdown",
   "metadata": {},
   "source": [
    "---\n",
    "### Success!\n",
    "\n",
    "We just downloaded our own copy of the Durham County Tracts file. We can now grab any feature layer we've found on ArcGIS Online. Well, it's not always this easy as datasets to have some download limits:"
   ]
  },
  {
   "cell_type": "code",
   "execution_count": 34,
   "metadata": {},
   "outputs": [
    {
     "data": {
      "text/plain": [
       "2000"
      ]
     },
     "execution_count": 34,
     "metadata": {},
     "output_type": "execute_result"
    }
   ],
   "source": [
    "tractsLayer.properties.maxRecordCount"
   ]
  },
  {
   "cell_type": "markdown",
   "metadata": {},
   "source": [
    "We can get around that restriction by \"paging\" our download, i.e. downloading in chunks of records, 2000 at a time...\n",
    "\n",
    "For more info on this process, see ESRI's documentation on querying feature layers:<br>\n",
    "https://developers.arcgis.com/python/guide/working-with-feature-layers-and-features/#Querying-feature-layers"
   ]
  },
  {
   "cell_type": "markdown",
   "metadata": {},
   "source": [
    "### Step 8. Analyzing the data here, as a dataframe\n",
    "Of course, why stop there. We have our data in our coding environment. Let's analyze it!\n",
    "\n",
    "To facilitate analyses, we can convert our featureset to (1) a list of [Feature](https://developers.arcgis.com/python/api-reference/arcgis.features.toc.html) objects or (2) to a [spatial dataframe](https://developers.arcgis.com/python/guide/introduction-to-the-spatially-enabled-dataframe/). "
   ]
  },
  {
   "cell_type": "code",
   "execution_count": 35,
   "metadata": {},
   "outputs": [
    {
     "data": {
      "text/plain": [
       "2660"
      ]
     },
     "execution_count": 35,
     "metadata": {},
     "output_type": "execute_result"
    }
   ],
   "source": [
    "#Get all the tracts for North Carolina\n",
    "nc_tracts = tractsLayer.query(\"STATE = 'NC'\")\n",
    "len(nc_tracts)"
   ]
  },
  {
   "cell_type": "code",
   "execution_count": 36,
   "metadata": {},
   "outputs": [
    {
     "data": {
      "text/plain": [
       "2660"
      ]
     },
     "execution_count": 36,
     "metadata": {},
     "output_type": "execute_result"
    }
   ],
   "source": [
    "#Convert feature set to a list of features\n",
    "features = nc_tracts.features\n",
    "len(features)"
   ]
  },
  {
   "cell_type": "code",
   "execution_count": 37,
   "metadata": {},
   "outputs": [
    {
     "data": {
      "text/plain": [
       "arcgis.features.feature.Feature"
      ]
     },
     "execution_count": 37,
     "metadata": {},
     "output_type": "execute_result"
    }
   ],
   "source": [
    "#Grab the first feature\n",
    "feature= features[0]\n",
    "type(feature)"
   ]
  },
  {
   "cell_type": "code",
   "execution_count": 38,
   "metadata": {},
   "outputs": [
    {
     "data": {
      "text/plain": [
       "'37001020100'"
      ]
     },
     "execution_count": 38,
     "metadata": {},
     "output_type": "execute_result"
    }
   ],
   "source": [
    "feature.get_value('FIPS')"
   ]
  },
  {
   "cell_type": "code",
   "execution_count": 39,
   "metadata": {},
   "outputs": [
    {
     "data": {
      "text/html": [
       "<div>\n",
       "<style scoped>\n",
       "    .dataframe tbody tr th:only-of-type {\n",
       "        vertical-align: middle;\n",
       "    }\n",
       "\n",
       "    .dataframe tbody tr th {\n",
       "        vertical-align: top;\n",
       "    }\n",
       "\n",
       "    .dataframe thead th {\n",
       "        text-align: right;\n",
       "    }\n",
       "</style>\n",
       "<table border=\"1\" class=\"dataframe\">\n",
       "  <thead>\n",
       "    <tr style=\"text-align: right;\">\n",
       "      <th></th>\n",
       "      <th>OBJECTID</th>\n",
       "      <th>FIPS</th>\n",
       "      <th>COUNTY</th>\n",
       "      <th>STATE</th>\n",
       "      <th>POPULATION</th>\n",
       "      <th>SQMI</th>\n",
       "      <th>Shape__Area</th>\n",
       "      <th>Shape__Length</th>\n",
       "      <th>SHAPE</th>\n",
       "    </tr>\n",
       "  </thead>\n",
       "  <tbody>\n",
       "    <tr>\n",
       "      <th>0</th>\n",
       "      <td>54922</td>\n",
       "      <td>37001020100</td>\n",
       "      <td>Alamance County</td>\n",
       "      <td>NC</td>\n",
       "      <td>4059.0</td>\n",
       "      <td>1.74</td>\n",
       "      <td>6.923603e+06</td>\n",
       "      <td>13160.677564</td>\n",
       "      <td>{\"rings\": [[[-8844009.14419999, 4314692.527200...</td>\n",
       "    </tr>\n",
       "    <tr>\n",
       "      <th>1</th>\n",
       "      <td>54923</td>\n",
       "      <td>37001020200</td>\n",
       "      <td>Alamance County</td>\n",
       "      <td>NC</td>\n",
       "      <td>4492.0</td>\n",
       "      <td>1.34</td>\n",
       "      <td>5.316794e+06</td>\n",
       "      <td>10357.109213</td>\n",
       "      <td>{\"rings\": [[[-8841357.0678, 4314534.22240001],...</td>\n",
       "    </tr>\n",
       "    <tr>\n",
       "      <th>2</th>\n",
       "      <td>54924</td>\n",
       "      <td>37001020400</td>\n",
       "      <td>Alamance County</td>\n",
       "      <td>NC</td>\n",
       "      <td>6764.0</td>\n",
       "      <td>4.57</td>\n",
       "      <td>1.816222e+07</td>\n",
       "      <td>22699.339684</td>\n",
       "      <td>{\"rings\": [[[-8841525.93969999, 4319271.282800...</td>\n",
       "    </tr>\n",
       "    <tr>\n",
       "      <th>3</th>\n",
       "      <td>54925</td>\n",
       "      <td>37001020501</td>\n",
       "      <td>Alamance County</td>\n",
       "      <td>NC</td>\n",
       "      <td>3788.0</td>\n",
       "      <td>2.79</td>\n",
       "      <td>1.108090e+07</td>\n",
       "      <td>18117.438391</td>\n",
       "      <td>{\"rings\": [[[-8846114.8645, 4318755.652], [-88...</td>\n",
       "    </tr>\n",
       "    <tr>\n",
       "      <th>4</th>\n",
       "      <td>54926</td>\n",
       "      <td>37001020502</td>\n",
       "      <td>Alamance County</td>\n",
       "      <td>NC</td>\n",
       "      <td>4272.0</td>\n",
       "      <td>2.11</td>\n",
       "      <td>8.403138e+06</td>\n",
       "      <td>14007.974342</td>\n",
       "      <td>{\"rings\": [[[-8843766.80169999, 4318245.1456],...</td>\n",
       "    </tr>\n",
       "  </tbody>\n",
       "</table>\n",
       "</div>"
      ],
      "text/plain": [
       "   OBJECTID         FIPS           COUNTY STATE  POPULATION  SQMI  \\\n",
       "0     54922  37001020100  Alamance County    NC      4059.0  1.74   \n",
       "1     54923  37001020200  Alamance County    NC      4492.0  1.34   \n",
       "2     54924  37001020400  Alamance County    NC      6764.0  4.57   \n",
       "3     54925  37001020501  Alamance County    NC      3788.0  2.79   \n",
       "4     54926  37001020502  Alamance County    NC      4272.0  2.11   \n",
       "\n",
       "    Shape__Area  Shape__Length  \\\n",
       "0  6.923603e+06   13160.677564   \n",
       "1  5.316794e+06   10357.109213   \n",
       "2  1.816222e+07   22699.339684   \n",
       "3  1.108090e+07   18117.438391   \n",
       "4  8.403138e+06   14007.974342   \n",
       "\n",
       "                                               SHAPE  \n",
       "0  {\"rings\": [[[-8844009.14419999, 4314692.527200...  \n",
       "1  {\"rings\": [[[-8841357.0678, 4314534.22240001],...  \n",
       "2  {\"rings\": [[[-8841525.93969999, 4319271.282800...  \n",
       "3  {\"rings\": [[[-8846114.8645, 4318755.652], [-88...  \n",
       "4  {\"rings\": [[[-8843766.80169999, 4318245.1456],...  "
      ]
     },
     "execution_count": 39,
     "metadata": {},
     "output_type": "execute_result"
    }
   ],
   "source": [
    "#Convert the feature set data as a dataframe (takes a moment...)\n",
    "sdf = nc_tracts.sdf\n",
    "sdf.head()"
   ]
  },
  {
   "cell_type": "markdown",
   "metadata": {},
   "source": [
    "* Note the output has a column called \"SHAPE\". These values are ArcGIS API `geometry` objects. "
   ]
  },
  {
   "cell_type": "markdown",
   "metadata": {},
   "source": [
    "#### Analyzing geometry of a single feature"
   ]
  },
  {
   "cell_type": "code",
   "execution_count": 40,
   "metadata": {},
   "outputs": [
    {
     "data": {
      "text/plain": [
       "OBJECTID                                                     54922\n",
       "FIPS                                                   37001020100\n",
       "COUNTY                                             Alamance County\n",
       "STATE                                                           NC\n",
       "POPULATION                                                  4059.0\n",
       "SQMI                                                          1.74\n",
       "Shape__Area                                         6923603.472656\n",
       "Shape__Length                                         13160.677564\n",
       "SHAPE            {'rings': [[[-8844009.14419999, 4314692.527200...\n",
       "Name: 0, dtype: object"
      ]
     },
     "execution_count": 40,
     "metadata": {},
     "output_type": "execute_result"
    }
   ],
   "source": [
    "#Extract the first row as a feature\n",
    "theFeature = sdf.loc[0]\n",
    "theFeature"
   ]
  },
  {
   "cell_type": "code",
   "execution_count": 41,
   "metadata": {},
   "outputs": [
    {
     "data": {
      "text/plain": [
       "arcgis.geometry._types.Polygon"
      ]
     },
     "execution_count": 41,
     "metadata": {},
     "output_type": "execute_result"
    }
   ],
   "source": [
    "#Get the feature's \"SHAPE\" value\n",
    "theGeom = theFeature['SHAPE']\n",
    "type(theGeom)"
   ]
  },
  {
   "cell_type": "code",
   "execution_count": 42,
   "metadata": {},
   "outputs": [
    {
     "data": {
      "text/plain": [
       "{'wkid': 102100, 'latestWkid': 3857}"
      ]
     },
     "execution_count": 42,
     "metadata": {},
     "output_type": "execute_result"
    }
   ],
   "source": [
    "#Get the feature's spatial reference (google the WKID to learn more)\n",
    "theGeom.spatial_reference"
   ]
  },
  {
   "cell_type": "code",
   "execution_count": 43,
   "metadata": {},
   "outputs": [
    {
     "data": {
      "text/plain": [
       "6923603.449508358"
      ]
     },
     "execution_count": 43,
     "metadata": {},
     "output_type": "execute_result"
    }
   ],
   "source": [
    "#Get the feature's area, in the spatial reference's units\n",
    "theGeom.area"
   ]
  },
  {
   "cell_type": "markdown",
   "metadata": {},
   "source": [
    "https://esri.github.io/arcgis-python-api/apidoc/html/arcgis.geometry.html#arcgis.geometry.Geometry.get_area"
   ]
  },
  {
   "cell_type": "code",
   "execution_count": 44,
   "metadata": {},
   "outputs": [
    {
     "data": {
      "text/plain": [
       "1.7419809040172476"
      ]
     },
     "execution_count": 44,
     "metadata": {},
     "output_type": "execute_result"
    }
   ],
   "source": [
    "#Get the area, in square miles, measured geodesically\n",
    "theGeom.get_area(method='GEODESIC',units='MILES')"
   ]
  },
  {
   "cell_type": "markdown",
   "metadata": {},
   "source": [
    "#### Analyzing demographics by county"
   ]
  },
  {
   "cell_type": "code",
   "execution_count": 45,
   "metadata": {},
   "outputs": [],
   "source": [
    "#Group the data by values in the COUNTY field\n",
    "county_sum = sdf.groupby('COUNTY').sum()"
   ]
  },
  {
   "cell_type": "code",
   "execution_count": 46,
   "metadata": {},
   "outputs": [
    {
     "data": {
      "text/plain": [
       "COUNTY\n",
       "Alamance County     166880.0\n",
       "Alexander County     37983.0\n",
       "Alleghany County     11910.0\n",
       "Anson County         12999.0\n",
       "Ashe County          10062.0\n",
       "Name: POPULATION, dtype: float64"
      ]
     },
     "execution_count": 46,
     "metadata": {},
     "output_type": "execute_result"
    }
   ],
   "source": [
    "#Show the first 5 records in the result\n",
    "county_sum['POPULATION'].head()"
   ]
  },
  {
   "cell_type": "code",
   "execution_count": 47,
   "metadata": {
    "scrolled": true
   },
   "outputs": [
    {
     "data": {
      "text/plain": [
       "count       100.000000\n",
       "mean      73653.700000\n",
       "std      115308.009183\n",
       "min           0.000000\n",
       "25%       14476.250000\n",
       "50%       39159.000000\n",
       "75%       86699.750000\n",
       "max      712150.000000\n",
       "Name: POPULATION, dtype: float64"
      ]
     },
     "execution_count": 47,
     "metadata": {},
     "output_type": "execute_result"
    }
   ],
   "source": [
    "#Summarize the county data\n",
    "county_sum['POPULATION'].describe()"
   ]
  },
  {
   "cell_type": "code",
   "execution_count": 48,
   "metadata": {},
   "outputs": [
    {
     "data": {
      "image/png": "[encoded data removed]",
      "text/plain": [
       "<Figure size 720x1440 with 1 Axes>"
      ]
     },
     "metadata": {
      "needs_background": "light"
     },
     "output_type": "display_data"
    }
   ],
   "source": [
    "%matplotlib inline\n",
    "county_sum['POPULATION'].sort_values().plot(kind='barh',figsize=(10,20));"
   ]
  },
  {
   "cell_type": "markdown",
   "metadata": {},
   "source": [
    "## Summary\n",
    "The learning curve steepens a bit on figuring out how to work with the data we can retrieve using the ArcGIS Python API. However, with patience, perserverence, and a structured understanding of both how the data are served and of the documentation, you can use the ArcGIS Python API to do a tremendous amount of useful coding. \n",
    "\n",
    "We've focused on data access, analysis, and visualization, but if you browse the notebook examples that ESRI provides, you'll see that the level of work you can use with this library is quite astounding. Furthermore, as GIS (and all computing really) moves from the desktop to the cloud, these types of analysis are likely to dominate the research landscape before too long. "
   ]
  }
 ],
 "metadata": {
  "kernelspec": {
   "display_name": "Python 3",
   "language": "python",
   "name": "python3"
  },
  "language_info": {
   "codemirror_mode": {
    "name": "ipython",
    "version": 3
   },
   "file_extension": ".py",
   "mimetype": "text/x-python",
   "name": "python",
   "nbconvert_exporter": "python",
   "pygments_lexer": "ipython3",
   "version": "3.9.11"
  }
 },
 "nbformat": 4,
 "nbformat_minor": 2
}
